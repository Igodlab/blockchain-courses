{
 "cells": [
  {
   "cell_type": "markdown",
   "id": "a7608447-0b6c-4e02-a4bd-07252146dd06",
   "metadata": {},
   "source": [
    "# EE-374"
   ]
  },
  {
   "cell_type": "markdown",
   "id": "0839aa9f-897c-41f3-8048-083c844cf9ea",
   "metadata": {},
   "source": [
    "# Chapter 5\n",
    "# The Chain \n",
    "- In the last chapter we've introduced a way for preventing double spends by enforcing periods of silence via a ticketing system that occurs at tunable frequency and its earned by mining Proof of Work\n",
    "- We also required a notion of freshness from block to block to avoid tricking the system by withholding and spamming blocks at will\n",
    "\n",
    "### 5.1 The Target\n",
    "- Now that we've established the PoW inequality (as a moderately hard version of the expentially hard hash preimage problem) we'd like to estimate what the *difficulty param* $T$ should be to have $\\Delta$ spacing between ticket/block to ticket/block\n",
    "    - *Random oracle assumption* - Since the distribution of the image set of hash functions are not always uniform, for PoW we'd like to demand that they are uniformly distributed in $\\{0,1\\}^\\kappa$\n",
    "    - Guessing the right $\\text{ctr}$ (in $B=s\\|\\vec{x}\\|\\text{ctr}$) for wining PoW has a probability of success of: $p=P[H(B)\\leq T]=\\frac{T}{2^\\kappa}$\n",
    "    - Lets assume that: *(i)* a node with typical computational power can process $q\\in\\mathbb{N}$ computations of $H$ per unit of time. *(ii)* There is $n\\in\\mathbb{N}$ computers in the network out of which the adversary controls $t\\in\\mathbb{N}$ (a more powerful computer can be thought as a collection of smaller computers with multiplicative power of $q\\times\\text{some-int-number}$)\n",
    "- The expected number of queries until a successful query is $\\frac{1}{p}=\\frac{2^\\kappa}{T}$, if the total number of queries that can be executed in the network is $nq$ then the expected block generation time is $\\frac{1}{pnq}=\\frac{2^\\kappa}{Tnq}$, we require this to be greater than network delay: $\\Delta<\\frac{2^\\kappa}{Tnq}\\Rightarrow T<\\frac{2^\\kappa}{\\Delta nq}$\n",
    "    - The more computational power there is on the network the more we have to increase mining difficulty, and same applies if we want to delay the network paramenter\n",
    "    - Lets define the *honest block production rate* $f$ and the expected time between two blocks being generated: $\\eta=\\frac{1}{f}$\n",
    "        - *static difficulty model* - For now we can make use of a static/fixed $f\\simeq (n-t)qp$\n",
    "\n",
    "### 5.2 The Arrow of Time\n",
    "- The chain structure is a consecuence of our intention of forcing *freshness* so that blocks from the past can't be saved and used at will. Turns out that the chain structure has more interesting properties that we'll discuss here\n",
    "    - First lets introduce some notation, a chain $\\mathcal{C}$ is a sequence of $n$ blocks $\\mathcal{C}=(B_0,B_1,\\ldots,B_{n-1})$ which has length $\\left|\\mathcal{C}\\right|$ & is enumerated like arrays in Python starting at zero and going up to $n-1$\n",
    "        - Like Python, the first **Genesis Block** is $\\mathcal{G}=\\mathcal{C}[0]$ & the tip is $\\mathcal{C}[-1]=\\mathcal{C}[|\\mathcal{C}|-1]$\n",
    "        - A chunk of the chain from the $i$-th (incluse) to the $j$-th (exclusive) element is $\\mathcal{C}[i:j]=(B_i,\\ldots,B_{j-1})$ \n",
    "- Now lets elaborate on how a block is *validated* and which other security notions against adversarial attacks are needed\n",
    "    - An adversary can still create split truth scenarios by witholding a block just enoguh time until a new player wins and broadcasts a latest block eg. \n",
    "    \n",
    "    <img src=\"images/ch052-blocktree.png\" width=\"60%\">"
   ]
  }
 ],
 "metadata": {
  "kernelspec": {
   "display_name": "Python 3 (ipykernel)",
   "language": "python",
   "name": "python3"
  },
  "language_info": {
   "codemirror_mode": {
    "name": "ipython",
    "version": 3
   },
   "file_extension": ".py",
   "mimetype": "text/x-python",
   "name": "python",
   "nbconvert_exporter": "python",
   "pygments_lexer": "ipython3",
   "version": "3.11.4"
  }
 },
 "nbformat": 4,
 "nbformat_minor": 5
}
