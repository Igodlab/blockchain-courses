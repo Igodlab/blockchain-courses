{
 "cells": [
  {
   "cell_type": "markdown",
   "id": "9ca06df1-0239-472d-a077-10c346994d84",
   "metadata": {},
   "source": [
    "# EE-375"
   ]
  },
  {
   "cell_type": "markdown",
   "id": "308f4208-56f1-4705-ab53-13891417ecbf",
   "metadata": {},
   "source": [
    "# Chapter 9\n",
    "\n",
    "# Accounts\n",
    "\n",
    "- We can simplify describing a blockchain as a distributed system which runs a decentralized protocol that securely stores an append-only Ledger. This leads to defining machinery for updating the Ledger called **State Machine Replication** and relies on *states & state transitions* (a *state* is a configuration at a particular time and a transaction $\\text{tx}$ enables *state transitions*)\n",
    "    - The way that the UTXO model performs this is by removing outpoints (old state) corresponding to inputs from an incoming $\\text{tx}$ (state transition) and updating outputs (new state)\n",
    "    - Some of the machinery used to achieve *consensus* is dependent on the UTXO model (ie. validation aspects concern the **consensus layer**) but some others are independent of the computing model (ie. transaction design & semantics). Thus other Blockchains are based on a different computing paradigm designs that also offer state transitions ie **Accounting Model**\n",
    "\n",
    "### 9.1 Accounts Model\n",
    "#### 9.1.1 Accounts Model Compared to UTXO Model\n",
    "- Lets compare the state transition mechainsm in each blockchain design:\n",
    "- The transaction validation process in the UTXO model goes like *(i)* check $\\sigma$, *(ii)* check conservation law, *(iii)* check inputs $\\text{tx}_\\text{in}$ are in current $\\operatorname{st}$ (UTXO set state). The state transition function $\\delta(\\operatorname{st}, \\text{tx})$ has the following cases\n",
    "\n",
    "\\begin{equation}\n",
    "\\delta_{\\text{UTXO}}(\\operatorname{st}, \\text{tx}) = \n",
    "\\begin{cases}\n",
    "\\operatorname{st} \\setminus \\text{tx}_\\text{in} \\cup \\text{tx}_\\text{out} & \n",
    "\\begin{array}{l}\n",
    "\\text{if tx valid wrt. }\\operatorname{st} \\\\\n",
    "\\end{array} \\\\ \\\\\n",
    "\\perp & \n",
    "\\begin{array}{l}\n",
    "\\text{otherwise}\n",
    "\\end{array}\n",
    "\\end{cases}\n",
    "\\end{equation}\n",
    "\n",
    "- In the Accout model the transaction validation process goes as *(i)* check $\\sigma$, *(ii)* check $\\operatorname{st}[\\text{tx.from}]\\geq \\text{tx.value}$:\n",
    "\n",
    "\\begin{equation}\n",
    "\\delta_{\\text{acc}}(\\operatorname{st}, \\text{tx}) = \n",
    "\\begin{cases}\n",
    "\\operatorname{st}^{\\prime} & \n",
    "\\begin{array}{l}\n",
    "\\text{where, }\\operatorname{st}^{\\prime}[\\text{tx.from}] = \\operatorname{st}[\\text{tx.from}] - \\text{tx.value}, \\\\\n",
    "\\operatorname{st}^{\\prime}[\\text{tx.to}] = \\operatorname{st}[\\text{tx.to}] + \\text{tx.value}\\text{, if tx valid wrt. }\\operatorname{st} \\\\\n",
    "\\end{array} \\\\ \\\\\n",
    "\\perp & \n",
    "\\begin{array}{l}\n",
    "\\text{otherwise}\n",
    "\\end{array}\n",
    "\\end{cases}\n",
    "\\end{equation}\n",
    "\n",
    "### 9.12 Accounts Model Replay Attack\n",
    "- The basic design of an account opens the door for attackers to replay a transaction even if it wasn't invoked by the account rightfull owner because the naive transacion structure only includes From, To, Value, $\\sigma$ so transactions are NOT unique\n",
    "    - *Replay Attack* - If we don't add a **nonce** (a $256$-bit integer) to the Account model then an attacker can take advantage of re-submitting transactions w/o a unique label identifier\n",
    "- A side by side comparison is shown below in Fig.9.7\n",
    "\n",
    "<img src=\"images/ch091-utxo-account-comparisson.png\" width=\"50%\">"
   ]
  }
 ],
 "metadata": {
  "kernelspec": {
   "display_name": "Python 3 (ipykernel)",
   "language": "python",
   "name": "python3"
  },
  "language_info": {
   "codemirror_mode": {
    "name": "ipython",
    "version": 3
   },
   "file_extension": ".py",
   "mimetype": "text/x-python",
   "name": "python",
   "nbconvert_exporter": "python",
   "pygments_lexer": "ipython3",
   "version": "3.11.4"
  }
 },
 "nbformat": 4,
 "nbformat_minor": 5
}
