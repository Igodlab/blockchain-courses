{
 "cells": [
  {
   "cell_type": "markdown",
   "id": "83c23eac-96e5-4fd2-9944-e4e488e90aa6",
   "metadata": {},
   "source": [
    "# ECE-374\n",
    "Course contentrates on what are blockchains and more generally re-answer, perhaps with a lot more coherence, the following questions:\n",
    "- What  are blockhains?\n",
    "- How do they work?\n",
    "- Why are they secure?"
   ]
  },
  {
   "cell_type": "code",
   "execution_count": 1,
   "id": "313ecbc0-21fe-472a-8826-cc43d7ce8b93",
   "metadata": {
    "tags": []
   },
   "outputs": [],
   "source": [
    "import numpy as np\n",
    "import matplotlib.pyplot as plt\n",
    "\n",
    "import math"
   ]
  },
  {
   "cell_type": "markdown",
   "id": "e406cc27-53a8-4a27-92dd-b030de8bfb00",
   "metadata": {},
   "source": [
    "### A Big Bad World\n",
    "- Before money there was only credit/debt and money is an instrument to measure it\n",
    "- Money can be almost anything: from prehistoric money to bits in some bank's computers. \n",
    "- Any kind of money derives its value from the the assumption that other people recognize and accept it as valuable (**Money is a belief system**)\n",
    "    - This belief system is build from human relationships based on trust \n",
    "    - Demistifying: no barter society have  ever existed prior to the invention of money\n",
    "- Each moentary transaction is never a private event between the two (or more) interacting parties because it transaltes to a claim upon society\n",
    "- This gives rise to the need of **consensus** in the economic system (/community)\n",
    "    - Monetary transactions must ensure its participants that any new configuration of money ownership and future transactions will still be accepted by the community in some future time\n",
    "    - Judgement of validity has two parts: *(1)* money is minted legitimately and *(2)* money to be spend rightfully belongs to the party who is about to spend it and hasn't been spend before (**double spending problem** - is all about ownership tracking)\n",
    "    \n",
    "#### Consensus requires trust\n",
    "- The consensus problem is solved differently depending on the type of money\n",
    "    - With physical money problem of minting is the only one needed to be solved (eg. imprint a royalty mark in a coin or watermarks on paper bills) because the problem of double spending is trivially solved (when a person pays with a coin he doesn't physically posses that coin anymore)\n",
    "- When we digitalize money then the matter comes to whom do we outsource trust?\n",
    "    - eg. if private legacy banks are the thrid party that we put our trust on, then consensus of the validity of a transaction occurs when a vendor's terminal connects to the bank's servers, updates the new spent balance and settles\n",
    "    - Bank's protocols and payment processors are the judges of a validity of a transaction\n",
    "- The cyberpunk movement and cryptographers working on protocolos are adverse to outsourcing trust to these kind of third parties because power is centralized\n",
    "- Outsourcing trust to third parties is undesirable because:\n",
    "    - (1) authority may fail, not only because of malicious reason but because of mistakes\n",
    "    - (2) authority may become corrupted in the future, creating the possibility of abuse\n",
    "    - (3) authority may be honest but external adversaries may breach into its systems and corrupt it\n",
    "    - (4) diffrent regional authorities may not have trust on a mutual authority eg. counrty level - US deferal reserve doesn't trust China's central bank and viceversa\n",
    "\n",
    "### Shifting trust from third parties to trust on protocols\n",
    "- If a bank acts maliciously the tratment for such adversarial behavior is legal. On the other hand, in blockchains/decentralized networks the treatment to adversarial behavior is *self-enforcable* baked into the protocol\n",
    "- Because money and contracts are just a social construct conjured by social delusion we can rebuild money and in the form of code as long as we recreate its essential properties: *scarcity, minting and ownership tracking* and convince people to adopt it\n",
    "    - So we can decentralize money by removing institutions of trust eg. banks and the central bank $\\Rightarrow$ in this scenario people are their own banks\n",
    "    - Replace money with a cryptocurrency and replace the social/legal agreements to transact w/ smart contracts\n",
    "    - When these are implemented in code rather than a blub of large third party insitutions, they can be analyzed in the theoretical framework of CS and become precise & explicit rather than implicit\n",
    "    \n",
    "### 1.2 The adversary\n",
    "- Distributed consensus systems are designed with the presence of an *adversary* player $\\mathcal{A}$ in mind who tries to break trust and the *honest* player(s) $\\Pi$ aims to defend it\n",
    "    - We assume that both adversary and honest parties are turing machines connected in an environment of common a communication network\n",
    "- The critical part to prove security of the network is to limit the adversary to run in **polynomial time** wrt its input size (lets coint these PPT: *probabilistic polynomial time*)\n",
    "    - Additionally we allow the adversary access to randomness\n",
    "    - Same constraints apply to the honest parties\n",
    "\n",
    "### 1.3 Game-based security\n",
    "- We'll be defining what security properties we want our protocols to have. A first step is to state that: \n",
    "    - A protocol $\\Pi$ is secure if it is impossible for an adversary $\\mathcal{A}$ to break it \n",
    "- 'breaking' the protocol will depend on its particular design and the security goals for the protocol will be described in terms of a *cryptographic game*\n",
    "    - We'll run these games by calling $\\Pi$ and $\\mathcal{A}$ from source code into the (other) code that is the game"
   ]
  },
  {
   "cell_type": "code",
   "execution_count": 14,
   "id": "569ecad1-a4b0-4aa8-87f6-16eaaae12bfe",
   "metadata": {},
   "outputs": [
    {
     "name": "stderr",
     "output_type": "stream",
     "text": [
      "/tmp/ipykernel_5888/2805501763.py:2: RuntimeWarning: divide by zero encountered in divide\n",
      "  y = lambda xi: 1 / 2**xi\n"
     ]
    },
    {
     "data": {
      "text/plain": [
       "[<matplotlib.lines.Line2D at 0x755d8b32f290>]"
      ]
     },
     "execution_count": 14,
     "metadata": {},
     "output_type": "execute_result"
    },
    {
     "data": {
      "image/png": "[encoded data removed]",
      "text/plain": [
       "<Figure size 640x480 with 1 Axes>"
      ]
     },
     "metadata": {},
     "output_type": "display_data"
    }
   ],
   "source": [
    "k = np.arange(1,257)\n",
    "y = lambda xi: 1 / 2**xi\n",
    "y1 = lambda xi: 1 / (k**3 + k + 9)\n",
    "\n",
    "# plt.subplot(121)\n",
    "plt.semilogy(k, y(k))\n",
    "plt.semilogy(k, y1(k))\n",
    "# plt.subplot(122)"
   ]
  },
  {
   "cell_type": "code",
   "execution_count": 15,
   "id": "fb3041d9-ae5b-4383-af3e-e4fc7b66aea3",
   "metadata": {
    "tags": []
   },
   "outputs": [],
   "source": [
    "from hashlib import sha256\n"
   ]
  },
  {
   "cell_type": "code",
   "execution_count": 50,
   "id": "045a8b72-0e42-408b-b826-895712545b0c",
   "metadata": {
    "tags": []
   },
   "outputs": [
    {
     "name": "stdout",
     "output_type": "stream",
     "text": [
      "10642d07834f2c0e86169b82e577e8745e363ec3fdbf33c466ddd1a3bad559c4\n"
     ]
    },
    {
     "data": {
      "text/plain": [
       "64"
      ]
     },
     "execution_count": 50,
     "metadata": {},
     "output_type": "execute_result"
    }
   ],
   "source": [
    "secret_word = \"LexAndChris + 59177836\"\n",
    "encrypted_word = sha256(secret_word.encode(\"utf-8\"))\n",
    "print(encrypted_word.hexdigest())\n",
    "a0 = list(encrypted_word.hexdigest())\n",
    "len(a0)"
   ]
  },
  {
   "cell_type": "code",
   "execution_count": 30,
   "id": "a6660eb7-3008-4df4-8ace-a8eb58d6c156",
   "metadata": {
    "tags": []
   },
   "outputs": [
    {
     "name": "stdout",
     "output_type": "stream",
     "text": [
      "16ca76b1a889efbb76d035379fe7a32e15efeb5cccaeefeb829ab448ceb3e4a6\n"
     ]
    }
   ],
   "source": [
    "secret_word2 = \"LexAndChriS\"\n",
    "encrypted_word2 = sha256(secret_word2.encode(\"utf-8\"))\n",
    "print(encrypted_word2.hexdigest())"
   ]
  },
  {
   "cell_type": "code",
   "execution_count": 43,
   "id": "71cc4682-46b2-49b0-909e-16fc1b8467c0",
   "metadata": {
    "tags": []
   },
   "outputs": [],
   "source": [
    "# sw3 = \"2 weeks ago - There is one constructor method named for each type of hash. All return a hash object with the same simple interface. For example: use sha256() to create a SHA-256 hash object. You can now feed this object with bytes-like objects (normally bytes) using the update method.\"\n",
    "# print(sha256(sw3.encode(\"utc-8\")).hexdigest())"
   ]
  },
  {
   "cell_type": "code",
   "execution_count": 39,
   "id": "67242198-1cf6-4e12-aca1-fc98377f890c",
   "metadata": {
    "tags": []
   },
   "outputs": [
    {
     "data": {
      "text/plain": [
       "8.636168555094445e-78"
      ]
     },
     "execution_count": 39,
     "metadata": {},
     "output_type": "execute_result"
    }
   ],
   "source": []
  }
 ],
 "metadata": {
  "kernelspec": {
   "display_name": "Python 3 (ipykernel)",
   "language": "python",
   "name": "python3"
  },
  "language_info": {
   "codemirror_mode": {
    "name": "ipython",
    "version": 3
   },
   "file_extension": ".py",
   "mimetype": "text/x-python",
   "name": "python",
   "nbconvert_exporter": "python",
   "pygments_lexer": "ipython3",
   "version": "3.11.5"
  }
 },
 "nbformat": 4,
 "nbformat_minor": 5
}
