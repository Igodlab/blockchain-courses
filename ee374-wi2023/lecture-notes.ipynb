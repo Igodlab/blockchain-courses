{
 "cells": [
  {
   "cell_type": "markdown",
   "id": "83c23eac-96e5-4fd2-9944-e4e488e90aa6",
   "metadata": {},
   "source": [
    "# EE-374\n",
    "Course contentrates on what are blockchains and more generally re-answer, perhaps with a lot more coherence, the following questions:\n",
    "- What  are blockhains?\n",
    "- How do they work?\n",
    "- Why are they secure?"
   ]
  },
  {
   "cell_type": "code",
   "execution_count": 1,
   "id": "313ecbc0-21fe-472a-8826-cc43d7ce8b93",
   "metadata": {
    "tags": []
   },
   "outputs": [],
   "source": [
    "import numpy as np\n",
    "import matplotlib.pyplot as plt\n",
    "\n",
    "import math"
   ]
  },
  {
   "cell_type": "markdown",
   "id": "e406cc27-53a8-4a27-92dd-b030de8bfb00",
   "metadata": {},
   "source": [
    "## A Big Bad World\n",
    "### 1.3 The Nature of Money\n",
    "- Before money there was only credit/debt and money is an instrument to measure it\n",
    "- Money can be almost anything: from prehistoric money to bits in some bank's computers. \n",
    "- Any kind of money derives its value from the the assumption that other people recognize and accept it as valuable (**Money is a belief system**)\n",
    "    - This belief system is build from human relationships based on trust \n",
    "    - Demistifying: no barter society have  ever existed prior to the invention of money\n",
    "- Each monetary transaction is never a private event between the two (or more) interacting parties because it transaltes to a claim upon society\n",
    "- This gives rise to the need of **consensus** in the economic system (/community)\n",
    "    - Monetary transactions must ensure its participants that any new configuration of money ownership and future transactions will still be accepted by the community in some future time\n",
    "    - Judgement of validity has two parts: *(1)* money is minted legitimately and *(2)* money to be spend rightfully belongs to the party who is about to spend it and hasn't been spend before (**double spending problem** - is all about ownership tracking)\n",
    "    \n",
    "#### Consensus requires trust\n",
    "- The consensus problem is solved differently depending on the type of money\n",
    "    - With physical money problem of minting is the only one needed to be solved (eg. imprint a royalty mark in a coin or watermarks on paper bills) because the problem of double spending is trivially solved (when a person pays with a coin he doesn't physically posses that coin anymore)\n",
    "- When we digitalize money then the matter comes to whom do we outsource trust?\n",
    "    - eg. if private legacy banks are the thrid party that we put our trust on, then consensus of the validity of a transaction occurs when a vendor's terminal connects to the bank's servers, updates the new spent balance and settles\n",
    "    - Bank's protocols and payment processors are the judges of a validity of a transaction\n",
    "- The cyberpunk movement and cryptographers working on protocolos are adverse to outsourcing trust to these kind of third parties because power is centralized\n",
    "- Outsourcing trust to third parties is undesirable because:\n",
    "    - (1) authority may fail, not only because of malicious reasons but because of mistakes\n",
    "    - (2) authority may become corrupted in the future, creating the possibility of abuse\n",
    "    - (3) authority may be honest but external adversaries may breach into its systems and corrupt it\n",
    "    - (4) different regional authorities may not have trust on a mutual authority eg. country level - US federal reserve doesn't trust China's central bank and viceversa\n",
    "\n",
    "#### Shifting trust from third parties to trust on protocols\n",
    "- If a bank acts maliciously the tratment for such adversarial behavior is legal. On the other hand, in blockchains/decentralized networks the treatment to adversarial behavior is *self-enforced* punishment baked into the protocol\n",
    "- Because money and contracts are just a social construct conjured by social delusion we can rebuild money in the form of code as long as we recreate its essential properties: *scarcity, minting and ownership tracking* and then convince people to adopt it\n",
    "    - So we can decentralize money by removing institutions of trust eg. banks and the central bank $\\Rightarrow$ in this scenario people are their own banks\n",
    "    - Replace money with a cryptocurrency and replace the social/legal agreements to transact w/ smart contracts\n",
    "    - When these are implemented in code rather than a blob of large third party insitutions, they can be analyzed in the theoretical framework of CS and become precise & explicit rather than implicit\n",
    "    \n",
    "### 1.2 The adversary\n",
    "- Distributed consensus systems must be designed considering the presence of an *adversary* player $\\mathcal{A}$ who tries to break trust (we'll disign our system against a truly powerful and truly malicious adversary). On the other hand, the *honest* player(s) $\\Pi$ act within the protocol's rules. \n",
    "    - Ideally, we want our protocol to survive and remain operational as long as a country’s Internet infrastructure is operational\n",
    "    - Security must be embedded in the protocol and incentive (disincentive) mechanisms must favor (disfavor) good (bad) players\n",
    "    - We model both, adversary and honest parties, as turing machines connected in an environment of a common communication network\n",
    "- The critical part to prove security of the network is to limit the adversary to run in **polynomial time** wrt its input size (lets coint these PPT: *probabilistic polynomial time*)\n",
    "    - Additionally we allow the adversary access to randomness\n",
    "    - Same constraints apply to the honest parties\n",
    "\n",
    "### 1.3 Game-based security\n",
    "- We'll be defining what security properties we want our protocols to have. A first step is to state that: \n",
    "    - A protocol $\\Pi$ is secure if it is impossible for an adversary $\\mathcal{A}$ to break it \n",
    "- 'breaking' the protocol will depend on its particular design and the security goals for the protocol will be described in terms of a *cryptographic game*\n",
    "    - We are interested in evaluating the performance of PPT adversaries against the game if its *true* $\\Rightarrow$ the adversary was successful in breaking the protocol\n",
    "    - We'll run these games by calling $\\Pi$ and $\\mathcal{A}$ from source code into the (other) code that is the game\n",
    "    - The execution of the game never occurs in the real protocol its just a tool to argue about security\n",
    "- Lets define a security param $\\kappa$ (respresents the probability of failure we are willing to accept)\n",
    "    - Our protocol will tolerate $\\kappa=256 \\rightarrow 2^{-\\kappa}=2^{-256}$\n",
    "    - Which is extremely small, tecnically it NEVER OCCURS (it is more probable that a global earth catastrophy is caused by an asteroid hitting earth during the *second you read this particular sentence* than a probability of $2^{-256}$ occurring)\n",
    "- Both adversary and honest players run in polynomial time wrt the security param $p(\\kappa)$\n",
    "    - Initialize the adversary as $\\mathcal{A}(1^{\\kappa})$ (the length of the input is $\\kappa$-th ones, because $|1^\\kappa|=\\kappa$)\n",
    "    - Its innapropriate to intialize $\\mathcal{A}$ as: \n",
    "        - passing no args $\\mathcal{A}()$, would mean that the adversary has no time to perform the attack\n",
    "        - passing $\\mathcal{A}(\\kappa)$, would mean that the adversary runs in $\\log{\\kappa}$ time (since $|\\kappa|=\\log{\\kappa}$)\n",
    "#### Negligibility\n",
    "- The *challenger game* is our math tool algorithm to argue about security. We initialize $\\Pi, \\mathcal{A}$ wrt $\\kappa$ \n",
    "    - Our goal is to have the output: $\\text{my-game}_{\\Pi, \\mathcal{A}}(\\kappa)=\\text{false}$"
   ]
  },
  {
   "cell_type": "code",
   "execution_count": null,
   "id": "6c59c412-3f75-4e23-8c53-26d16400d998",
   "metadata": {},
   "outputs": [],
   "source": []
  }
 ],
 "metadata": {
  "kernelspec": {
   "display_name": "Python 3 (ipykernel)",
   "language": "python",
   "name": "python3"
  },
  "language_info": {
   "codemirror_mode": {
    "name": "ipython",
    "version": 3
   },
   "file_extension": ".py",
   "mimetype": "text/x-python",
   "name": "python",
   "nbconvert_exporter": "python",
   "pygments_lexer": "ipython3",
   "version": "3.11.4"
  }
 },
 "nbformat": 4,
 "nbformat_minor": 5
}
