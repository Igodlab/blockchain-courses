{
 "cells": [
  {
   "cell_type": "markdown",
   "id": "3a755fcf-953b-4fe2-a02a-01bb31bbe685",
   "metadata": {},
   "source": [
    "# EE-374"
   ]
  },
  {
   "cell_type": "markdown",
   "id": "c3b96f8c-cab7-4331-bbb9-aa874b881357",
   "metadata": {},
   "source": [
    "# Chapter 3\n",
    "# The Transaction\n",
    "\n",
    "### 3.1 Coins\n"
   ]
  }
 ],
 "metadata": {
  "kernelspec": {
   "display_name": "Python 3 (ipykernel)",
   "language": "python",
   "name": "python3"
  },
  "language_info": {
   "codemirror_mode": {
    "name": "ipython",
    "version": 3
   },
   "file_extension": ".py",
   "mimetype": "text/x-python",
   "name": "python",
   "nbconvert_exporter": "python",
   "pygments_lexer": "ipython3",
   "version": "3.11.5"
  }
 },
 "nbformat": 4,
 "nbformat_minor": 5
}
