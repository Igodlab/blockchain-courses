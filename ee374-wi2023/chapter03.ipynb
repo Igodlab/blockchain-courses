{
 "cells": [
  {
   "cell_type": "markdown",
   "id": "3a755fcf-953b-4fe2-a02a-01bb31bbe685",
   "metadata": {},
   "source": [
    "# EE-374"
   ]
  },
  {
   "cell_type": "markdown",
   "id": "c3b96f8c-cab7-4331-bbb9-aa874b881357",
   "metadata": {},
   "source": [
    "# Chapter 3\n",
    "# The Transaction\n",
    "\n",
    "### 3.1 Coins\n",
    "- Now that we have covered the basics - money is a social construct and we agreed on owr ctypto primitives $\\rightarrow$ we can create owr own money:\n",
    "    - As long as it is difficult to forge and everyone agrees on *who owns what*\n",
    "- We'll refer to transactions as coins passing from hand-to-hand\n",
    "    - Transactions are boxes were transitions occur and arrows represent value moving ie. returning/changing owner\n",
    "    - Illustrations put names on owners but in reality these are pub-key hashes not legal identities\n",
    "\n",
    "### 3.2 Multiple outputs\n",
    "- Dangling arrows are **Unspent Transaction Outputs (UTXOs)** any other arrow that points to a transaction block is already spent\n",
    "- Similarly to the cash system, if one has a 1000 bill and wants to spend only 50 to buy a book but keep the other 950, then they must split the phisical bill into 50 bucks + change. *UTXO*s function in the same way\n",
    "\n",
    "\n",
    "### 3.3 Multiple inputs\n",
    "- Multiple inputs can converge into a transaction block to aggregate for making larger payments\n",
    "\n",
    "### 3.4 Conservation law\n",
    "- With the exception of minting new tokens (which have a genesis where everything gets created in one transtaction) all other transactions must obey a *conservation law*:\n",
    "    - value comming from all inputs must equal the value comming from all outputs (minus a tx fee): \n",
    "    - **Definition 11** (Conservation law). *Given a transaction $\\text{tx}$, we say that it obeys the Conservation Law if*: $\\sum_{\\text{in}\\in\\text{tx.ins}}\\text{in.v}=\\sum_{\\text{out}\\in\\text{tx.outs}}\\text{out.v}+\\text{fees}$\n",
    "    \n",
    "### 3.5 Outpoints\n",
    "- All transactions have a unique identifier $\\text{txid}$, obtained by hashing all of its transaction data ie. I/Os\n",
    "    - All inputs are just outputs being spent, thus we can reference ouputs with a tuple containing $(\\text{txid}, \\text{idx})$ ie. from which previous transaction block $\\text{txid}$ does its input number $\\text{idx}$ come from?\n",
    "    \n",
    "### 3.6 The UTXO Set\n",
    "- The whole history of payments forms a transaction **(DAG) Directed Acyclic Graph** (an append-only graph)\n",
    "    - The diagram is simplified for conciseness (not showing owners or values)\n",
    "    - Key thing is to highlight that UTXOs are the current state of the Ledger, all UTXO's form the **UTXO set** in the Ledger at a particular time\n",
    "    - When a payment occurs a party creates a new transaction and broadcasts it to the network\n",
    "    - Each node in the network appends new transtactions and stores the whole transaction graph ie. everyone knows *who owns what* by looking at their local UTXO set\n",
    "    - To know *how much* a particular party has, he must collect and sum the value of all of the UTXOs (from the current UTXO set) marked with a pub-key whose respective private-key is in his possesion \n",
    "\n",
    "<img src=\"images/ch036-dag-utxo-set.png\" width=\"60%\">\n",
    "\n",
    "\n",
    "### 3.7 Transaction signatures\n",
    "- "
   ]
  }
 ],
 "metadata": {
  "kernelspec": {
   "display_name": "Python 3 (ipykernel)",
   "language": "python",
   "name": "python3"
  },
  "language_info": {
   "codemirror_mode": {
    "name": "ipython",
    "version": 3
   },
   "file_extension": ".py",
   "mimetype": "text/x-python",
   "name": "python",
   "nbconvert_exporter": "python",
   "pygments_lexer": "ipython3",
   "version": "3.11.5"
  }
 },
 "nbformat": 4,
 "nbformat_minor": 5
}
