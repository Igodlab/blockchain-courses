{
 "cells": [
  {
   "cell_type": "markdown",
   "id": "e93d6185-0c06-46f0-bebc-5ac5c5969391",
   "metadata": {},
   "source": [
    "# EE-374"
   ]
  },
  {
   "cell_type": "markdown",
   "id": "636c6ec4-ee48-403e-afc3-c0b45585f9e5",
   "metadata": {},
   "source": [
    "# Chapter 2\n",
    "# Cryptographic Primitives\n",
    "\n",
    "### 2.1 Hash functions"
   ]
  },
  {
   "cell_type": "code",
   "execution_count": null,
   "id": "7cd374dc-27fb-4b37-ad3a-a20b1ed4bf8d",
   "metadata": {},
   "outputs": [],
   "source": []
  }
 ],
 "metadata": {
  "kernelspec": {
   "display_name": "Python 3 (ipykernel)",
   "language": "python",
   "name": "python3"
  },
  "language_info": {
   "codemirror_mode": {
    "name": "ipython",
    "version": 3
   },
   "file_extension": ".py",
   "mimetype": "text/x-python",
   "name": "python",
   "nbconvert_exporter": "python",
   "pygments_lexer": "ipython3",
   "version": "3.11.5"
  }
 },
 "nbformat": 4,
 "nbformat_minor": 5
}
