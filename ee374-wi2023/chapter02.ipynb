{
 "cells": [
  {
   "cell_type": "markdown",
   "id": "e93d6185-0c06-46f0-bebc-5ac5c5969391",
   "metadata": {},
   "source": [
    "# EE-374"
   ]
  },
  {
   "cell_type": "markdown",
   "id": "636c6ec4-ee48-403e-afc3-c0b45585f9e5",
   "metadata": {},
   "source": [
    "# Chapter 2\n",
    "# Cryptographic Primitives\n",
    "\n",
    "### 2.1 Hash functions\n",
    "- So we've seen that in the *gossip protocol* nodes exchange information objects, its essential to label them with a unique identifier\n",
    "    - Since there is no notion of ordering while the protocol is running we discard counting and also random numbers because we want uniqueness\n",
    "    - Then we use hashes as unique identifiers: $H:\\{0,1\\}^\\ast\\rightarrow\\{0,1\\}^\\kappa$ which take whatever sized string and output a $\\kappa$-bits long string\n",
    "    - *Cryptographic hashes* are great *compression* functions that also are polynomially computable\n",
    "- Next on we'll define three key properties around resistance against $\\mathcal{A}$: *collision, preimage & 2nd-preimage resistance*\n",
    "\n",
    "<div style=\"background-color:rgba(0, 0, 0, 0.0470588); padding:10px 0;font-family:monospace; font-family:monospace\">\n",
    "<font color = \"gray\"># <strong>Algorithm 3</strong> collision-finding game for a hash function $H$</font><br>\n",
    "<strong>function</strong> collision-game$_{H,\\mathcal{A}}(\\kappa)$<br>\n",
    "&nbsp;&nbsp;$x_1,x_2\\leftarrow\\mathcal{A}(1^{\\kappa})$<br>\n",
    "&nbsp;&nbsp;<strong>return</strong> $H_\\kappa(x_1)=H_\\kappa(x_2)\\wedge x_1\\neq x_2$<br>\n",
    "<strong>end function</strong>\n",
    "<br>\n",
    "<br>\n",
    "<font color = \"gray\"># <strong>Algorithm 5</strong> preimage-finding game for a hash function $H$</font><br>\n",
    "<strong>function</strong> preimage-game$_{H,\\mathcal{A}}(\\kappa)$<br>\n",
    "&nbsp;&nbsp;$x\\sim P_\\text{uniform}\\leftarrow^\\$\\{0,1\\}^\\kappa$<br>\n",
    "&nbsp;&nbsp;$y\\leftarrow H_\\kappa(x)$<br>\n",
    "&nbsp;&nbsp;$x^\\prime\\leftarrow\\mathcal{A}(y)$<br>\n",
    "&nbsp;&nbsp;<strong>return</strong> $H_\\kappa(x^\\prime)=y$<br>\n",
    "<strong>end function</strong>\n",
    "<br>\n",
    "<br>\n",
    "<font color = \"gray\"># <strong>Algorithm 6</strong> 2nd-preimage-finding game for a hash function $H$</font><br>\n",
    "<strong>function</strong> 2nd-preimage-game$_{H,\\mathcal{A}}(\\kappa)$<br>\n",
    "&nbsp;&nbsp;$x_1\\sim P_\\text{uniform}\\leftarrow^\\$\\{0,1\\}^{2\\kappa+1}$<br>\n",
    "&nbsp;&nbsp;$x_2\\leftarrow\\mathcal{A}(x_1)$<br>\n",
    "&nbsp;&nbsp;<strong>return</strong> $H_\\kappa(x_1)=H_\\kappa(x_2)\\wedge x_1\\neq x_2$<br>\n",
    "<strong>end function</strong>\n",
    "</div>\n",
    "\n",
    "#### Collision resistance\n",
    "- In short, for $\\mathcal{A}$ to break collsion resistance she has to freely chose both inputs $x_1,x_2$ such that: $\\forall x_1,x_2:x_1\\neq x_2\\Rightarrow H(x_1)= H(x_2)$\n",
    "- Because of Pigeonhole theorem ie. if the universe of preimage is larger than hash image then collisions will exist\n",
    "    - **Theorem 2** (Pigeonhole). *Consider a function $f:A\\rightarrow B$. If $|A|>|B|$, then there must exist some inputs $x_1, x_2$ such that $f(x_1)=f(x_2)$*\n",
    "    - thus, **collisions** are inevitable, some algorithms to find the problematic inputs are\n",
    "        - start feeding inputs to $H$, starting w/ $x=0$ and going up to $2^\\kappa-1$, if there hasn't been a collision until then $\\Rightarrow$ we are certain that the next input will yield a collision\n",
    "        - Brute force search, runs in exponential time $2^{2\\kappa}$ where we use two for loops one for $x_i$ and the other for $x_j$ aiming to find $(i,j)\\wedge H(x_i)=H(x_j)$\n",
    "        - *Collision-finding game* - initialize the adversary $x_1,x_2\\leftarrow\\mathcal{A}(1^\\kappa)$ and let her produce two different inputs (she may have them hard coded) that have the same $\\kappa$-bit output hash $H_\\kappa(x_1)=H_\\kappa(x_2)\\wedge x_1\\neq x_2$\n",
    "        \n",
    "- From the last point, the adversary may have a list of hard coded collisions, but for sufficiently large values of $\\kappa$ ie. more secure hash function, these may not work\n",
    "    - **Definition 5** (Collision Resistance). *A hash function $H:\\{0,1\\}^\\ast\\rightarrow\\{0,1\\}^\\kappa$ is collision resistant if:* $\\forall\\text{PPT}\\mathcal{A} : P[\\text{collision-game}_{H,\\mathcal{A}}(\\kappa)=1]\\leq\\text{negl}(\\kappa)$\n",
    "\n",
    "\n",
    "#### Preimage resistance\n",
    "- In preimage resistance $\\mathcal{A}$ is provided a hash output and should be unfeasible to find the preimage $x$ that produces such hash\n",
    "    - **Defintion 6** (Preimage Resistance). *A hash function $H:\\{0,1\\}^\\ast\\rightarrow\\{0,1\\}^\\kappa$ is preimage resistant if* $\\forall\\text{PPT}\\mathcal{A}: P[\\text{preimage-game}_{H,\\mathcal{A}}(\\kappa)=1]\\leq\\text{negl}(\\kappa)$\n",
    "    \n",
    "#### Second preimage resistance\n",
    "- In second preimage resistance $\\mathcal{A}$ is handed a preimage $x_1$ and its image $H(x_1)$ and should be unfeasible to find another input $x_2$ that produces the same image\n",
    "    - **Definition 7** (2nd-Preimage Resistance) *A hash function $H:\\{0,1\\}^\\ast\\rightarrow\\{0,1\\}^\\kappa$ is 2nd-preimage resistant if* $\\forall\\text{PPT}\\mathcal{A}: P[\\text{2nd-preimage-game}_{H,\\mathcal{A}}(\\kappa)=1]\\leq\\text{negl}(\\kappa)$*\n",
    "\n",
    "- As we can see there is some deductive hierarchy in strength of theorems:\n",
    "    - **Theorem 3** (Collision Resistance $\\Rightarrow$ 2nd Preimage Resistance). *If a hash function $H$ is collision resistant, then it is 2nd-preimage resistant*\n",
    "    - **Theorem 4** (2nd Preimage Resistance $\\Rightarrow$ Preimage Resistance). *If a hash funciton $H$ is 2nd-preimage resistant, then it is preimage resistant*\n",
    "    \n",
    "- *Soft intuitive proofs*:\n",
    "    - Theorem 4 - suppose another $\\mathcal{A}$ that can break $H$ in 2nd-preimage and serves $\\mathcal{A}^\\prime$ in its mission to break collision. First, $\\mathcal{A}^\\prime$ chooses $x_1\\sim P_\\text{uniform}$ from the message space and then hands it to $\\mathcal{A}$ who, based in our assumption, achieves Definition 7 producing an $x_2$ such that $x_1\\neq x_2 \\wedge H(x_1)=H(x_2)$. Then, returns this output to $\\mathcal{A}^\\prime$ who produces the final output $(x_1,x_2)$\n",
    "    - Theorem 5 - a lot more complicated\n",
    "\n",
    "    \n",
    "#### Gossiping with hashses\n",
    "- Collision resistance ensures that objects are uniquely *content-addressible*\n",
    "- Hashes are so useful that allow to advertise unique objects without revealing its contents\n",
    "- In the gossiping process, instead of sending the whole object to peers it is more efficient to advertise its hash (*objectid*)\n",
    "    - If a peer is already aware of the object, then they can simply ignore it. If not they can request the object through its *objectid* and verify its hash upon delivery\n",
    "    - Moreover, gossiping w/ hashes allows anonymity ie. $B$ doesn't have a way of knowing if object $O$ was generated by $A$'s IP addr or simply relayed.\n",
    "\n",
    "<img src=\"images/ch021-gossiping-hashes.png\" width=\"60%\">\n"
   ]
  },
  {
   "cell_type": "code",
   "execution_count": null,
   "id": "7cd374dc-27fb-4b37-ad3a-a20b1ed4bf8d",
   "metadata": {},
   "outputs": [],
   "source": [
    "- "
   ]
  }
 ],
 "metadata": {
  "kernelspec": {
   "display_name": "Python 3 (ipykernel)",
   "language": "python",
   "name": "python3"
  },
  "language_info": {
   "codemirror_mode": {
    "name": "ipython",
    "version": 3
   },
   "file_extension": ".py",
   "mimetype": "text/x-python",
   "name": "python",
   "nbconvert_exporter": "python",
   "pygments_lexer": "ipython3",
   "version": "3.11.5"
  }
 },
 "nbformat": 4,
 "nbformat_minor": 5
}
