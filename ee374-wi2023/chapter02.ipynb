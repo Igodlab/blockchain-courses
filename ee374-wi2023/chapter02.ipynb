{
 "cells": [
  {
   "cell_type": "markdown",
   "id": "e93d6185-0c06-46f0-bebc-5ac5c5969391",
   "metadata": {},
   "source": [
    "# EE-374"
   ]
  },
  {
   "cell_type": "markdown",
   "id": "636c6ec4-ee48-403e-afc3-c0b45585f9e5",
   "metadata": {},
   "source": [
    "# Chapter 2\n",
    "# Cryptographic Primitives\n",
    "\n",
    "### 2.1 Hash functions\n",
    "- So we've seen that in the *gossip protocol* nodes exchange information objects, its essential to label them with a unique identifier\n",
    "    - Since there is no notion of ordering while the protocol is running we discard counting and also random numbers because we want uniqueness\n",
    "    - Then we use hashes as unique identifiers: $H:\\{0,1\\}^\\ast\\rightarrow\\{0,1\\}^\\kappa$ which take whatever sized string and output a $\\kappa$-bits long string\n",
    "    - *Cryptographic hashes* are great *compression* functions that also are polynomially computable\n",
    "\n",
    "#### Collision resistance\n",
    "- Ideally we'd like to have a unique hash for any object: $\\forall x_1,x_2:x_1\\neq x_2\\Rightarrow H(x_1)\\neq H(x_2)$\n",
    "- However, this is unattainable because there is finite hash outputs and unlimited possible inputs\n",
    "    - **collisions** are inevitable, ie. if we start feeding inputs to $H$, starting w/ $x=0$ and going up to $2^\\kappa-1$, if there hasn't been a collision until then $\\Rightarrow$ we are certain that the next input will yield a collision\n",
    "    - "
   ]
  },
  {
   "cell_type": "code",
   "execution_count": null,
   "id": "7cd374dc-27fb-4b37-ad3a-a20b1ed4bf8d",
   "metadata": {},
   "outputs": [],
   "source": [
    "- "
   ]
  }
 ],
 "metadata": {
  "kernelspec": {
   "display_name": "Python 3 (ipykernel)",
   "language": "python",
   "name": "python3"
  },
  "language_info": {
   "codemirror_mode": {
    "name": "ipython",
    "version": 3
   },
   "file_extension": ".py",
   "mimetype": "text/x-python",
   "name": "python",
   "nbconvert_exporter": "python",
   "pygments_lexer": "ipython3",
   "version": "3.11.5"
  }
 },
 "nbformat": 4,
 "nbformat_minor": 5
}
