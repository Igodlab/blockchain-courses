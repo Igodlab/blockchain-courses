{
 "cells": [
  {
   "cell_type": "markdown",
   "id": "005c32b1-83b3-4d04-9b04-6db0f6f358a2",
   "metadata": {},
   "source": [
    "# EE-374"
   ]
  },
  {
   "cell_type": "markdown",
   "id": "1699766b-75e5-4c53-a16d-3ffb2cda387f",
   "metadata": {},
   "source": [
    "# Chapter 6\n",
    "\n",
    "# Chain Virtues\n",
    "\n",
    "### 6.1 Transactions - Blocks\n",
    "- Some attributes that differentiate and give security to different components are summarized in Table.6.1\n",
    "\n",
    "<img src=\"images/ch061-txs-blocks.png\" width=\"50%\">\n",
    "\n",
    "### 6.2 Safety, Revisited\n",
    "- So far we've built a protocol that is safe against *collision attacks, forgery, double spending txs, witholding blocks & adversary forks*. But we can spot another vulnerability in the *read query* functionality of a Ledger - nodes/parties $P_1,P_2$ may not report the exact Ledger version at all times. We'll demand more safety propositions we want to accopmlish \n",
    "- We'd like both Ledgers to be exactly the same, so they should report the same element/$\\text{tx}$ at position $i$ at time $r_1$: $L_{r_1}^{P_1}[i]=L_{r_1}^{P_2}[i]$, this may fail due to either of the two scenarios below: \n",
    "    - *(1) Ledger read query when broadcasting hasn't traversed the whole network yet* - $P_1,P_2$ will report different Ledgers if either one is still catching up to update the latest block while its traversing the network (within $\\Delta$ time)\n",
    "        - **Definition 21** (Ledger Safety). *A protocol is safe if it holds that for any two parties $P_1,P_2$ and any two times $r_1,r_2$, it holds that either $L_{r_1}^{P_1}\\preccurlyeq L_{r_2}^{P_2}\\vee L_{r_2}^{P_2}\\preccurlyeq L_{r_1}^{P_1}$*\n",
    "            - where notation $A\\preccurlyeq B$ for the finite sequences $A,B$ means that $B[:|A|]=A$ ie. one equence is contained within the other one, exactly to every element\n",
    "        - **Lemma 5** (Safe $\\Rightarrow$ No double spend (informal)) *In a safe protocol that ensures transaction validity locally, two honest parties can never confirm two colficting transactions*\n",
    "    - *(2) Ledger read query when parties are in different forks* - if at some point in time $P_1$ is mining on the longest chain and $P_2$ on a temporary fork, they'll report different Ledgers\n",
    "\n",
    "### 6.3 Honest Convergence\n",
    "- Short-lived forks occur all the time and we can rely on the *longest chain rule* for resolution, which is guaranteed to happen because of the probability of many consecutive blocks appended on each fork, each within $\\Delta$, (ie. when the network mining power is split) decays quickly\n",
    "    - Forks can only survive as long as split nodes keep mining blocks in parallel & within $\\Delta$, since this is unlikely to go on for long we can expect (Fig.6.3):\n",
    "    - **Lemma 6** (Honest Convergence (HC)) . *In a setting where only honest parties are mining, exactly $\\Delta$ time after every convergence opportunity, all honest parties will hold the same chain*\n",
    "- **Trade-off**: *blockchain performance & security* - An example of parameterizing the network for perfomance is finding the sweet spot for optimizing *honest convergence opportunities* w/o sacrificing block produciton rate (see Fig.6.4)\n",
    "    - While every successful PoW query is an HC opportunity, at low *block-production rate* $f=npq$, queries are so rare that HC is rare as well. Whereas at high $f$ we have more forked competing queries & we don't allow the network to have sufficient time to resolve forks\n",
    "<img src=\"images/ch063-honest-convergence.png\" width=\"50%\">\n",
    "<img src=\"images/ch063-density-convergence-opportunity.png\" width=\"50%\">\n",
    "\n",
    "### 6.4 Common Prefix\n"
   ]
  }
 ],
 "metadata": {
  "kernelspec": {
   "display_name": "Python 3 (ipykernel)",
   "language": "python",
   "name": "python3"
  },
  "language_info": {
   "codemirror_mode": {
    "name": "ipython",
    "version": 3
   },
   "file_extension": ".py",
   "mimetype": "text/x-python",
   "name": "python",
   "nbconvert_exporter": "python",
   "pygments_lexer": "ipython3",
   "version": "3.11.4"
  }
 },
 "nbformat": 4,
 "nbformat_minor": 5
}
