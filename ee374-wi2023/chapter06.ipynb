{
 "cells": [
  {
   "cell_type": "markdown",
   "id": "005c32b1-83b3-4d04-9b04-6db0f6f358a2",
   "metadata": {},
   "source": [
    "# EE-374"
   ]
  },
  {
   "cell_type": "markdown",
   "id": "1699766b-75e5-4c53-a16d-3ffb2cda387f",
   "metadata": {},
   "source": [
    "# Chapter 6\n",
    "\n",
    "# Chain Virtues\n",
    "\n",
    "### 6.1 Transactions - Blocks\n",
    "- Some attributes that differentiate and give security to different components are summarized in Table.6.1\n",
    "\n",
    "<img src=\"images/ch061-txs-blocks.png\" width=\"50%\">\n",
    "\n",
    "### 6.2 Safety, Revisited\n",
    "- So far we've built a protocol that is safe against *collision attacks, double spending txs, witholding blocks & adversary forks*. But we can spot another vulnerability in the querying functionality of a Ledger - nodes/parties $P_1,P_2$ may not report the exact Ledger version if either one is still catching up to update the latest block while its traversing the network (within $\\Delta$ time)\n",
    "    - We'd like both Ledgers to be exactly the same, so they should report the same element/$\\text{tx}$ at position $i$ at time $r_1$: $L_{r_1}^{P_1}[i]=L_{r_1}^{P_2}[i]$\n",
    "    - **Definition 21** (Ledger Safety). *A protocol is safe if it holds that for any two parties $P_1,P_2$ and any two times $r_1,r_2$, it holds that either $L_{r_1}^{P_1}\\preccurlyeq L_{r_2}^{P_2}\\vee L_{r_2}^{P_2}\\preccurlyeq L_{r_1}^{P_1}$*\n",
    "        - where notation $A\\preccurlyeq B$ for the finite sequences $A,B$ means that $B[:|A|]=A$ ie. one equence is contained within the other one, exactly to every element"
   ]
  }
 ],
 "metadata": {
  "kernelspec": {
   "display_name": "Python 3 (ipykernel)",
   "language": "python",
   "name": "python3"
  },
  "language_info": {
   "codemirror_mode": {
    "name": "ipython",
    "version": 3
   },
   "file_extension": ".py",
   "mimetype": "text/x-python",
   "name": "python",
   "nbconvert_exporter": "python",
   "pygments_lexer": "ipython3",
   "version": "3.11.4"
  }
 },
 "nbformat": 4,
 "nbformat_minor": 5
}
