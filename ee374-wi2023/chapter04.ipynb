{
 "cells": [
  {
   "cell_type": "markdown",
   "id": "5a945cc6-1808-47e2-bfa6-62673d84b225",
   "metadata": {},
   "source": [
    "# EE-374"
   ]
  },
  {
   "cell_type": "markdown",
   "id": "61a91fc3-0c8f-4905-a3b1-0d09d47522a4",
   "metadata": {
    "tags": []
   },
   "source": [
    "# Chapter 4\n",
    "# Blocks\n",
    "\n",
    "### 4.1 The network delay\n",
    "- Let's recap the core concepts up to Chapter 3, we have:\n",
    "    - Created a monetary system that allows participants to transfer money between one another\n",
    "    - Ensured that participants can ony spend their own money by using an *unforgeable crypto signature scheme* to authenticate transactions\n",
    "    - Enabled that participants can determine *who owns what* via gossiping transactions through the network, upon verification, into a *transaction graph* & reading the *UTXO set*. Note that the latter is the only thing that determines who owns what whereas the former just stores the history of past value transfer\n",
    "- Our assumption is that since every transaction is gossiped everyone will eventually arrive at the same transaction graph and reach consensus on the UTXO set\n",
    "    - The order at which transactions arrive wrt some honest node doesn't matter as long as they are gossiped within some time $\\Delta$\n",
    "    - **Definition 13** (Network delay). The network delay parameter $\\Delta$ measure the maximum time it takes for a message to travel from one honest party to every other one on the network"
   ]
  }
 ],
 "metadata": {
  "kernelspec": {
   "display_name": "Python 3 (ipykernel)",
   "language": "python",
   "name": "python3"
  },
  "language_info": {
   "codemirror_mode": {
    "name": "ipython",
    "version": 3
   },
   "file_extension": ".py",
   "mimetype": "text/x-python",
   "name": "python",
   "nbconvert_exporter": "python",
   "pygments_lexer": "ipython3",
   "version": "3.11.5"
  }
 },
 "nbformat": 4,
 "nbformat_minor": 5
}
