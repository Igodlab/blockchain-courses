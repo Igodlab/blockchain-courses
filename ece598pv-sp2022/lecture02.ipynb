{
 "cells": [
  {
   "cell_type": "markdown",
   "id": "41482c38-10d3-4bca-8d09-a2437beb7b02",
   "metadata": {},
   "source": [
    "# Principles of Blockchains\n",
    "Notes on **Principles of Blockchains** course [ECE 598PV, Spring 2022](https://courses.engr.illinois.edu/ece598pv/sp2022/#Lectures), offered by the University of Illinos at Urbana Chammpaign"
   ]
  },
  {
   "cell_type": "markdown",
   "id": "06223fcd-5b33-4f0e-871b-0132e937740c",
   "metadata": {},
   "source": [
    "## Lecture 2: Blockchains as Cryptographic Data Structures\n",
    "\n",
    "- Some ubiquitous tools used in blockchains are: *cryptographic hash functions* & *digital signatures*. As well as other key features that steam down from hashes like *Merkle trees* and *blockchains* (as data structures)\n",
    "\n",
    "\n",
    "### Hash functions\n",
    "- Lets begin with normal hash functions - a function that converts any string of arbitrary length into a fixed length binary string\n",
    "    - since any data structure $x$ can be represented as a binary string $\\Rightarrow$ it can also be passed to a hash function $H(x)$ with fixed length $k$\n",
    "    - the input space $x\\in X$ can be infinite BUT the ouput space of $H(x)\\in Y$ with $2^k$ elements, this poses a problem because its finite and opens up the possibility for **collissions** ie. given different inputs $x$, $x^\\prime$ we get $H(x)=H(x^\\prime)$\n",
    "    - thus we want to minimize the probability of collissions ie. make $Y$ uniformly distributed given any input and aim to approximate prob of collissions to $2^{-k}$\n",
    "        - given the above (a hash that approx prob to $2^{-k}$) and $m$ uniform samples from $X$, then the probability of at least getting one collission is $1-\\exp(-m^{2}2^{-k})$, called the *birthday paradox*\n",
    "    - Classic use of hash functions is [hash tables](https://en.wikipedia.org/wiki/Hash_function)\n",
    "        \n",
    "### Cryptographic hash functions\n",
    "\n",
    "- In cryptocurrencies we need the to add the additional \"cryptography\" property to a hash function\n",
    "    - this is a function that is easy to compute but difficult (near impossible) to invert $\\Rightarrow$ given the binary string $x$ it is easy to compute $y=H(x)$ but given an arbitrary $y^\\prime=H(x^\\prime)$ it is difficut to find $x^\\prime$\n",
    "    - **collision restistant** essentially means that the only way to find two different strings $x\\neq{x^\\prime}$ that compute $H(x)=H(x^\\prime)$ is by searching through all the string space aka. brute force\n",
    "    - cryptographic hash functions are not constructed in an ad-hoc manner but rather systematically eg. a popular construction is the [**Merkle-Damgard construction**](https://en.wikipedia.org/wiki/Merkle%E2%80%93Damg%C3%A5rd_construction)\n",
    "    - regular hash funcs reduce the prob of collisions by making $Y$ uniformly distributed but criptographic hash funcs reduce collisions with cryptographic funcs\n",
    "        \n",
    "### Uses of cryptographic hashes\n",
    "- "
   ]
  },
  {
   "cell_type": "code",
   "execution_count": null,
   "id": "a3521c25-69b9-45f5-b892-f9f97202bf31",
   "metadata": {},
   "outputs": [],
   "source": []
  },
  {
   "cell_type": "code",
   "execution_count": 1,
   "id": "5b0a73d8-893c-4e2c-aa96-566801353426",
   "metadata": {},
   "outputs": [
    {
     "data": {
      "text/plain": [
       "7.142857142857143"
      ]
     },
     "execution_count": 1,
     "metadata": {},
     "output_type": "execute_result"
    }
   ],
   "source": [
    "50 / 7"
   ]
  }
 ],
 "metadata": {
  "kernelspec": {
   "display_name": "Python 3 (ipykernel)",
   "language": "python",
   "name": "python3"
  },
  "language_info": {
   "codemirror_mode": {
    "name": "ipython",
    "version": 3
   },
   "file_extension": ".py",
   "mimetype": "text/x-python",
   "name": "python",
   "nbconvert_exporter": "python",
   "pygments_lexer": "ipython3",
   "version": "3.11.4"
  }
 },
 "nbformat": 4,
 "nbformat_minor": 5
}
